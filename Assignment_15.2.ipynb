{
 "cells": [
  {
   "cell_type": "markdown",
   "metadata": {},
   "source": [
    "## Problem Statement\n",
    "#### In this assignment students have to find the frequency of words in a webpage. User can use urllib and BeautifulSoup to extract text from webpage."
   ]
  },
  {
   "cell_type": "code",
   "execution_count": 1,
   "metadata": {},
   "outputs": [],
   "source": [
    "from bs4 import BeautifulSoup\n",
    "import urllib.request\n",
    "import nltk\n",
    "import re\n",
    "from nltk.corpus import stopwords\n",
    "from nltk.stem.porter import PorterStemmer\n",
    "from nltk.stem.wordnet import WordNetLemmatizer\n",
    "from collections import Counter\n",
    "from string import punctuation"
   ]
  },
  {
   "cell_type": "markdown",
   "metadata": {},
   "source": [
    "<b>Setting stop words.</b>"
   ]
  },
  {
   "cell_type": "code",
   "execution_count": 2,
   "metadata": {},
   "outputs": [],
   "source": [
    "stops = set(stopwords.words(\"english\")) "
   ]
  },
  {
   "cell_type": "markdown",
   "metadata": {},
   "source": [
    "<b>Scraping the content in the web page using the Beautiful Soup library</b>"
   ]
  },
  {
   "cell_type": "code",
   "execution_count": 3,
   "metadata": {},
   "outputs": [],
   "source": [
    "response = urllib.request.urlopen('http://php.net/')\n",
    "html = response.read()\n",
    "soup = BeautifulSoup(html,\"html5lib\")"
   ]
  },
  {
   "cell_type": "markdown",
   "metadata": {},
   "source": [
    "<b>Copying the text under the tag p</b>"
   ]
  },
  {
   "cell_type": "code",
   "execution_count": 4,
   "metadata": {},
   "outputs": [],
   "source": [
    "text = [''.join(s.findAll(string=True))for s in soup.findAll('p')]"
   ]
  },
  {
   "cell_type": "markdown",
   "metadata": {},
   "source": [
    "<b> Cleaning the content copied in earlier step</b>"
   ]
  },
  {
   "cell_type": "code",
   "execution_count": 5,
   "metadata": {},
   "outputs": [],
   "source": [
    "clean_text = []\n",
    "for y in text:\n",
    "    for x in y.split():\n",
    "        #tokeninzing each sentence\n",
    "        words = nltk.word_tokenize(x)\n",
    "        for word in words:\n",
    "            #Lemmatizing each word i.e using the root word\n",
    "            lemmas = [WordNetLemmatizer().lemmatize(word)]\n",
    "            #removing all the stop words.\n",
    "            meaningful_words = [w for w in lemmas if not w in stops]\n",
    "            #removing all the punctuation from the list of words\n",
    "            if len(meaningful_words) > 0:\n",
    "                clean_text.append(\" \".join(meaningful_words)) "
   ]
  },
  {
   "cell_type": "markdown",
   "metadata": {},
   "source": [
    "<b>Counting the occurence of each word using the Counter Function</b>"
   ]
  },
  {
   "cell_type": "code",
   "execution_count": 6,
   "metadata": {},
   "outputs": [],
   "source": [
    "c = Counter((x.rstrip(punctuation).lower() for x in clean_text if len(x) > 1))"
   ]
  },
  {
   "cell_type": "code",
   "execution_count": 7,
   "metadata": {},
   "outputs": [
    {
     "name": "stdout",
     "output_type": "stream",
     "text": [
      "('php', 97)\n",
      "('release', 66)\n",
      "('the', 46)\n",
      "('found', 40)\n",
      "('source', 35)\n",
      "('file', 34)\n",
      "('for', 29)\n",
      "('version', 26)\n",
      "('downloads', 25)\n",
      "('please', 25)\n",
      "('development', 23)\n",
      "('this', 23)\n",
      "('list', 23)\n",
      "('upgrading', 22)\n",
      "('bug', 21)\n",
      "('change', 19)\n",
      "('team', 18)\n",
      "('visit', 18)\n",
      "('page', 18)\n",
      "('windows', 17)\n",
      "('binary', 17)\n",
      "('also', 17)\n",
      "('read', 16)\n",
      "('7.2.0', 14)\n",
      "('user', 13)\n",
      "('announces', 12)\n",
      "('immediate', 12)\n",
      "('availability', 12)\n",
      "('all', 12)\n",
      "('encouraged', 12)\n",
      "('7.3.0', 12)\n",
      "('test', 12)\n",
      "('news', 12)\n",
      "('wiki', 11)\n",
      "('download', 11)\n",
      "('carefully', 11)\n",
      "('report', 11)\n",
      "('system', 11)\n",
      "('do', 11)\n",
      "('not', 11)\n",
      "('use', 11)\n",
      "('production', 11)\n",
      "('information', 11)\n",
      "('new', 11)\n",
      "('feature', 11)\n",
      "('complete', 11)\n",
      "('note', 11)\n",
      "('these', 11)\n",
      "('archive', 11)\n",
      "('planned', 11)\n",
      "('thank', 11)\n",
      "('helping', 11)\n",
      "('make', 11)\n",
      "('better', 11)\n",
      "('alpha', 11)\n",
      "('candidate', 11)\n",
      "('windows.php.net/qa', 10)\n",
      "('is', 10)\n",
      "('preview', 10)\n",
      "('it', 10)\n",
      "('in', 10)\n",
      "('next', 8)\n",
      "('beta', 8)\n",
      "('upgrade', 7)\n",
      "('windows.php.net/download', 7)\n",
      "('recorded', 7)\n",
      "('changelog', 7)\n",
      "('security', 7)\n",
      "('glad', 6)\n",
      "('announce', 6)\n",
      "('rough', 6)\n",
      "('outline', 6)\n",
      "('7.3', 6)\n",
      "('cycle', 6)\n",
      "('specified', 6)\n",
      "('issue', 6)\n",
      "('reporting', 6)\n",
      "('would', 6)\n",
      "('signature', 6)\n",
      "('manifest', 6)\n",
      "('qa', 6)\n",
      "('site', 6)\n",
      "('several', 5)\n",
      "('incompatibility', 5)\n",
      "('tracking', 5)\n",
      "('you', 5)\n",
      "('full', 5)\n",
      "('august', 4)\n",
      "('first', 4)\n",
      "('bugfix', 3)\n",
      "('7.2', 3)\n",
      "('fixed', 3)\n",
      "('fix', 3)\n",
      "('third', 3)\n",
      "('july', 3)\n",
      "('released', 3)\n",
      "('popular', 2)\n",
      "('7.1.21', 2)\n",
      "('7.1', 2)\n",
      "('7.2.9', 2)\n",
      "('7.3.0beta2', 2)\n",
      "('7.3.0beta1', 2)\n",
      "('7.1.20', 2)\n",
      "('5.6.37', 2)\n",
      "('7.0.31', 2)\n",
      "('7.2.8', 2)\n",
      "('contains', 2)\n",
      "('fourth', 2)\n",
      "('7.3.0alpha4', 2)\n",
      "('second', 2)\n",
      "('7.2.2', 2)\n",
      "('announced', 2)\n",
      "('october', 2)\n",
      "('general-purpose', 1)\n",
      "('scripting', 1)\n",
      "('language', 1)\n",
      "('especially', 1)\n",
      "('suited', 1)\n",
      "('web', 1)\n",
      "('fast', 1)\n",
      "('flexible', 1)\n",
      "('pragmatic', 1)\n",
      "('power', 1)\n",
      "('everything', 1)\n",
      "('blog', 1)\n",
      "('website', 1)\n",
      "('world', 1)\n",
      "('sixth', 1)\n",
      "('internal', 1)\n",
      "('listed', 1)\n",
      "('upgrading.internals', 1)\n",
      "('30th', 1)\n",
      "('fifth', 1)\n",
      "('16th', 1)\n",
      "('5.6', 1)\n",
      "('7.0', 1)\n",
      "('minor', 1)\n",
      "('2nd', 1)\n",
      "('19th', 1)\n",
      "('start', 1)\n",
      "('early', 1)\n",
      "('june', 1)\n",
      "('21', 1)\n",
      "('included', 1)\n",
      "('rc4', 1)\n",
      "('26th', 1)\n",
      "('rc3', 1)\n",
      "('12th', 1)\n",
      "('14th', 1)\n",
      "('september', 1)\n",
      "('final', 1)\n",
      "('31th', 1)\n",
      "('improvement', 1)\n",
      "('relative', 1)\n",
      "('20th', 1)\n",
      "('older', 1)\n",
      "('entries', 1)\n",
      "('group', 1)\n",
      "('events', 1)\n",
      "('special', 1)\n",
      "('thanks', 1)\n",
      "('social', 1)\n",
      "('medium', 1)\n"
     ]
    }
   ],
   "source": [
    "# prints most common words staring at most common.\n",
    "for i in c.most_common():\n",
    "    print (i) "
   ]
  },
  {
   "cell_type": "code",
   "execution_count": null,
   "metadata": {},
   "outputs": [],
   "source": []
  },
  {
   "cell_type": "code",
   "execution_count": null,
   "metadata": {},
   "outputs": [],
   "source": []
  }
 ],
 "metadata": {
  "kernelspec": {
   "display_name": "Python 3",
   "language": "python",
   "name": "python3"
  },
  "language_info": {
   "codemirror_mode": {
    "name": "ipython",
    "version": 3
   },
   "file_extension": ".py",
   "mimetype": "text/x-python",
   "name": "python",
   "nbconvert_exporter": "python",
   "pygments_lexer": "ipython3",
   "version": "3.6.4"
  }
 },
 "nbformat": 4,
 "nbformat_minor": 2
}
